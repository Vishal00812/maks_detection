{
 "cells": [
  {
   "cell_type": "code",
   "execution_count": 1,
   "id": "3348156e",
   "metadata": {},
   "outputs": [],
   "source": [
    "import numpy as np\n",
    "import pandas as pd\n",
    "import matplotlib.pyplot as plt"
   ]
  },
  {
   "cell_type": "code",
   "execution_count": 2,
   "id": "a728a53f",
   "metadata": {},
   "outputs": [],
   "source": [
    "import tensorflow as tf\n",
    "from keras.preprocessing.image import ImageDataGenerator"
   ]
  },
  {
   "cell_type": "code",
   "execution_count": 23,
   "id": "9103639d",
   "metadata": {},
   "outputs": [
    {
     "name": "stdout",
     "output_type": "stream",
     "text": [
      "Found 616 images belonging to 2 classes.\n"
     ]
    }
   ],
   "source": [
    "est_datagen = ImageDataGenerator(rescale = 1./255)\n",
    "test_set = test_datagen.flow_from_directory('test_set/test_set',\n",
    "                                            target_size = (64, 64),\n",
    "                                            batch_size = 32,\n",
    "                                            class_mode = 'binary')\n",
    "training_set = train_datagen.flow_from_directory('maskdata/maskdata/train',\n",
    "                                                 target_size = (64, 64),\n",
    "                                                 batch_size = 32,\n",
    "                                                 class_mode = 'binary')"
   ]
  },
  {
   "cell_type": "code",
   "execution_count": 24,
   "id": "f7d3fc54",
   "metadata": {},
   "outputs": [
    {
     "name": "stdout",
     "output_type": "stream",
     "text": [
      "Found 198 images belonging to 2 classes.\n"
     ]
    }
   ],
   "source": [
    "test_datagen = ImageDataGenerator(rescale = 1./255)\n",
    "test_set = test_datagen.flow_from_directory('maskdata/maskdata/test',\n",
    "                                            target_size = (64, 64),\n",
    "                                            batch_size = 32,\n",
    "                                            class_mode = 'binary')"
   ]
  },
  {
   "cell_type": "code",
   "execution_count": 25,
   "id": "a98efff4",
   "metadata": {},
   "outputs": [],
   "source": [
    "cnn=tf.keras.models.Sequential()"
   ]
  },
  {
   "cell_type": "code",
   "execution_count": 26,
   "id": "43cfacc9",
   "metadata": {},
   "outputs": [],
   "source": [
    "cnn.add(tf.keras.layers.Conv2D(filters=32,kernel_size=3,activation='relu',input_shape=[64,64,3]))"
   ]
  },
  {
   "cell_type": "code",
   "execution_count": 27,
   "id": "2feb9381",
   "metadata": {},
   "outputs": [],
   "source": [
    "cnn.add(tf.keras.layers.MaxPool2D(pool_size=2,strides=2))"
   ]
  },
  {
   "cell_type": "code",
   "execution_count": 28,
   "id": "39558acb",
   "metadata": {},
   "outputs": [],
   "source": [
    "cnn.add(tf.keras.layers.Conv2D(filters=32,kernel_size=3,activation='relu'))\n",
    "cnn.add(tf.keras.layers.MaxPool2D(pool_size=2,strides=2))"
   ]
  },
  {
   "cell_type": "code",
   "execution_count": 29,
   "id": "9c20cbdf",
   "metadata": {},
   "outputs": [],
   "source": [
    "cnn.add(tf.keras.layers.Flatten())"
   ]
  },
  {
   "cell_type": "code",
   "execution_count": 30,
   "id": "e2a7672e",
   "metadata": {},
   "outputs": [],
   "source": [
    "cnn.add(tf.keras.layers.Dense(units=128,activation='relu'))"
   ]
  },
  {
   "cell_type": "code",
   "execution_count": 31,
   "id": "6c6d4327",
   "metadata": {},
   "outputs": [],
   "source": [
    "cnn.add(tf.keras.layers.Dense(units=1,activation='sigmoid'))"
   ]
  },
  {
   "cell_type": "code",
   "execution_count": 32,
   "id": "14742f70",
   "metadata": {},
   "outputs": [],
   "source": [
    "cnn.compile(optimizer='adam',loss='binary_crossentropy',metrics=['accuracy'])"
   ]
  },
  {
   "cell_type": "code",
   "execution_count": 34,
   "id": "1f794a92",
   "metadata": {},
   "outputs": [
    {
     "name": "stdout",
     "output_type": "stream",
     "text": [
      "Epoch 1/100\n",
      "20/20 [==============================] - 13s 616ms/step - loss: 0.4973 - accuracy: 0.7890 - val_loss: 0.3418 - val_accuracy: 0.8535\n",
      "Epoch 2/100\n",
      "20/20 [==============================] - 4s 209ms/step - loss: 0.2253 - accuracy: 0.9107 - val_loss: 0.2272 - val_accuracy: 0.9242\n",
      "Epoch 3/100\n",
      "20/20 [==============================] - 4s 207ms/step - loss: 0.1658 - accuracy: 0.9367 - val_loss: 0.2035 - val_accuracy: 0.9141\n",
      "Epoch 4/100\n",
      "20/20 [==============================] - 4s 215ms/step - loss: 0.1194 - accuracy: 0.9497 - val_loss: 0.1303 - val_accuracy: 0.9646\n",
      "Epoch 5/100\n",
      "20/20 [==============================] - 4s 206ms/step - loss: 0.1096 - accuracy: 0.9627 - val_loss: 0.1034 - val_accuracy: 0.9697\n",
      "Epoch 6/100\n",
      "20/20 [==============================] - 4s 222ms/step - loss: 0.0876 - accuracy: 0.9724 - val_loss: 0.2483 - val_accuracy: 0.9141\n",
      "Epoch 7/100\n",
      "20/20 [==============================] - 4s 201ms/step - loss: 0.0855 - accuracy: 0.9692 - val_loss: 0.0713 - val_accuracy: 0.9697\n",
      "Epoch 8/100\n",
      "20/20 [==============================] - 4s 201ms/step - loss: 0.0751 - accuracy: 0.9756 - val_loss: 0.1027 - val_accuracy: 0.9646\n",
      "Epoch 9/100\n",
      "20/20 [==============================] - 4s 200ms/step - loss: 0.0707 - accuracy: 0.9773 - val_loss: 0.0849 - val_accuracy: 0.9596\n",
      "Epoch 10/100\n",
      "20/20 [==============================] - 4s 201ms/step - loss: 0.0599 - accuracy: 0.9805 - val_loss: 0.0715 - val_accuracy: 0.9697\n",
      "Epoch 11/100\n",
      "20/20 [==============================] - 4s 203ms/step - loss: 0.0656 - accuracy: 0.9789 - val_loss: 0.1059 - val_accuracy: 0.9545\n",
      "Epoch 12/100\n",
      "20/20 [==============================] - 4s 200ms/step - loss: 0.0927 - accuracy: 0.9659 - val_loss: 0.0960 - val_accuracy: 0.9646\n",
      "Epoch 13/100\n",
      "20/20 [==============================] - 4s 208ms/step - loss: 0.0653 - accuracy: 0.9756 - val_loss: 0.0601 - val_accuracy: 0.9697\n",
      "Epoch 14/100\n",
      "20/20 [==============================] - 4s 216ms/step - loss: 0.0614 - accuracy: 0.9805 - val_loss: 0.1042 - val_accuracy: 0.9545\n",
      "Epoch 15/100\n",
      "20/20 [==============================] - 4s 200ms/step - loss: 0.0569 - accuracy: 0.9821 - val_loss: 0.0630 - val_accuracy: 0.9747\n",
      "Epoch 16/100\n",
      "20/20 [==============================] - 4s 209ms/step - loss: 0.0457 - accuracy: 0.9838 - val_loss: 0.1644 - val_accuracy: 0.9394\n",
      "Epoch 17/100\n",
      "20/20 [==============================] - 4s 200ms/step - loss: 0.0403 - accuracy: 0.9854 - val_loss: 0.0775 - val_accuracy: 0.9747\n",
      "Epoch 18/100\n",
      "20/20 [==============================] - 4s 212ms/step - loss: 0.0386 - accuracy: 0.9854 - val_loss: 0.0577 - val_accuracy: 0.9747\n",
      "Epoch 19/100\n",
      "20/20 [==============================] - 4s 204ms/step - loss: 0.0280 - accuracy: 0.9886 - val_loss: 0.0959 - val_accuracy: 0.9545\n",
      "Epoch 20/100\n",
      "20/20 [==============================] - 4s 204ms/step - loss: 0.0347 - accuracy: 0.9886 - val_loss: 0.0757 - val_accuracy: 0.9798\n",
      "Epoch 21/100\n",
      "20/20 [==============================] - 4s 211ms/step - loss: 0.0434 - accuracy: 0.9854 - val_loss: 0.0522 - val_accuracy: 0.9798\n",
      "Epoch 22/100\n",
      "20/20 [==============================] - 4s 203ms/step - loss: 0.0529 - accuracy: 0.9805 - val_loss: 0.0678 - val_accuracy: 0.9697\n",
      "Epoch 23/100\n",
      "20/20 [==============================] - 4s 213ms/step - loss: 0.0425 - accuracy: 0.9870 - val_loss: 0.1144 - val_accuracy: 0.9596\n",
      "Epoch 24/100\n",
      "20/20 [==============================] - 4s 204ms/step - loss: 0.0494 - accuracy: 0.9886 - val_loss: 0.0471 - val_accuracy: 0.9848\n",
      "Epoch 25/100\n",
      "20/20 [==============================] - 4s 209ms/step - loss: 0.0387 - accuracy: 0.9870 - val_loss: 0.0392 - val_accuracy: 0.9848\n",
      "Epoch 26/100\n",
      "20/20 [==============================] - 4s 208ms/step - loss: 0.0180 - accuracy: 0.9951 - val_loss: 0.0285 - val_accuracy: 0.9899\n",
      "Epoch 27/100\n",
      "20/20 [==============================] - 4s 204ms/step - loss: 0.0263 - accuracy: 0.9919 - val_loss: 0.0307 - val_accuracy: 0.9899\n",
      "Epoch 28/100\n",
      "20/20 [==============================] - 4s 203ms/step - loss: 0.0184 - accuracy: 0.9935 - val_loss: 0.0410 - val_accuracy: 0.9848\n",
      "Epoch 29/100\n",
      "20/20 [==============================] - 4s 199ms/step - loss: 0.0103 - accuracy: 0.9968 - val_loss: 0.0327 - val_accuracy: 0.9899\n",
      "Epoch 30/100\n",
      "20/20 [==============================] - 4s 220ms/step - loss: 0.0088 - accuracy: 0.9984 - val_loss: 0.0380 - val_accuracy: 0.9848\n",
      "Epoch 31/100\n",
      "20/20 [==============================] - 4s 219ms/step - loss: 0.0075 - accuracy: 0.9984 - val_loss: 0.0589 - val_accuracy: 0.9798\n",
      "Epoch 32/100\n",
      "20/20 [==============================] - 4s 206ms/step - loss: 0.0189 - accuracy: 0.9919 - val_loss: 0.0535 - val_accuracy: 0.9848\n",
      "Epoch 33/100\n",
      "20/20 [==============================] - 4s 203ms/step - loss: 0.0226 - accuracy: 0.9935 - val_loss: 0.0418 - val_accuracy: 0.9899\n",
      "Epoch 34/100\n",
      "20/20 [==============================] - 4s 200ms/step - loss: 0.0150 - accuracy: 0.9951 - val_loss: 0.0348 - val_accuracy: 0.9848\n",
      "Epoch 35/100\n",
      "20/20 [==============================] - 4s 202ms/step - loss: 0.0076 - accuracy: 0.9968 - val_loss: 0.0408 - val_accuracy: 0.9848\n",
      "Epoch 36/100\n",
      "20/20 [==============================] - 4s 208ms/step - loss: 0.0095 - accuracy: 0.9951 - val_loss: 0.0465 - val_accuracy: 0.9798\n",
      "Epoch 37/100\n",
      "20/20 [==============================] - 4s 197ms/step - loss: 0.0136 - accuracy: 0.9968 - val_loss: 0.0451 - val_accuracy: 0.9848\n",
      "Epoch 38/100\n",
      "20/20 [==============================] - 4s 207ms/step - loss: 0.0129 - accuracy: 0.9968 - val_loss: 0.0495 - val_accuracy: 0.9848\n",
      "Epoch 39/100\n",
      "20/20 [==============================] - 4s 203ms/step - loss: 0.0206 - accuracy: 0.9935 - val_loss: 0.0323 - val_accuracy: 0.9848\n",
      "Epoch 40/100\n",
      "20/20 [==============================] - 4s 208ms/step - loss: 0.0082 - accuracy: 1.0000 - val_loss: 0.0543 - val_accuracy: 0.9848\n",
      "Epoch 41/100\n",
      "20/20 [==============================] - 4s 191ms/step - loss: 0.0043 - accuracy: 1.0000 - val_loss: 0.0414 - val_accuracy: 0.9848\n",
      "Epoch 42/100\n",
      "20/20 [==============================] - 4s 204ms/step - loss: 0.0033 - accuracy: 1.0000 - val_loss: 0.0401 - val_accuracy: 0.9848\n",
      "Epoch 43/100\n",
      "20/20 [==============================] - 4s 205ms/step - loss: 0.0049 - accuracy: 0.9984 - val_loss: 0.0626 - val_accuracy: 0.9848\n",
      "Epoch 44/100\n",
      "20/20 [==============================] - 4s 201ms/step - loss: 0.0036 - accuracy: 1.0000 - val_loss: 0.0593 - val_accuracy: 0.9798\n",
      "Epoch 45/100\n",
      "20/20 [==============================] - 4s 201ms/step - loss: 0.0055 - accuracy: 1.0000 - val_loss: 0.0352 - val_accuracy: 0.9848\n",
      "Epoch 46/100\n",
      "20/20 [==============================] - 4s 205ms/step - loss: 0.0053 - accuracy: 0.9984 - val_loss: 0.0823 - val_accuracy: 0.9747\n",
      "Epoch 47/100\n",
      "20/20 [==============================] - 4s 209ms/step - loss: 0.0058 - accuracy: 0.9968 - val_loss: 0.0693 - val_accuracy: 0.9798\n",
      "Epoch 48/100\n",
      "20/20 [==============================] - 4s 202ms/step - loss: 0.0435 - accuracy: 0.9919 - val_loss: 0.0523 - val_accuracy: 0.9848\n",
      "Epoch 49/100\n",
      "20/20 [==============================] - 4s 202ms/step - loss: 0.0281 - accuracy: 0.9935 - val_loss: 0.0334 - val_accuracy: 0.9848\n",
      "Epoch 50/100\n",
      "20/20 [==============================] - 4s 206ms/step - loss: 0.0311 - accuracy: 0.9903 - val_loss: 0.0335 - val_accuracy: 0.9798\n",
      "Epoch 51/100\n",
      "20/20 [==============================] - 4s 202ms/step - loss: 0.0168 - accuracy: 0.9935 - val_loss: 0.0454 - val_accuracy: 0.9747\n",
      "Epoch 52/100\n",
      "20/20 [==============================] - 4s 212ms/step - loss: 0.0054 - accuracy: 1.0000 - val_loss: 0.0482 - val_accuracy: 0.9747\n",
      "Epoch 53/100\n",
      "20/20 [==============================] - 5s 231ms/step - loss: 0.0080 - accuracy: 0.9984 - val_loss: 0.0337 - val_accuracy: 0.9798\n",
      "Epoch 54/100\n",
      "20/20 [==============================] - 4s 204ms/step - loss: 0.0033 - accuracy: 1.0000 - val_loss: 0.0355 - val_accuracy: 0.9798\n",
      "Epoch 55/100\n",
      "20/20 [==============================] - 4s 203ms/step - loss: 0.0054 - accuracy: 0.9984 - val_loss: 0.0655 - val_accuracy: 0.9798\n",
      "Epoch 56/100\n",
      "20/20 [==============================] - 4s 198ms/step - loss: 0.0086 - accuracy: 0.9968 - val_loss: 0.0783 - val_accuracy: 0.9747\n",
      "Epoch 57/100\n",
      "20/20 [==============================] - 4s 206ms/step - loss: 0.0264 - accuracy: 0.9935 - val_loss: 0.0534 - val_accuracy: 0.9848\n"
     ]
    },
    {
     "name": "stdout",
     "output_type": "stream",
     "text": [
      "Epoch 58/100\n",
      "20/20 [==============================] - 4s 202ms/step - loss: 0.0102 - accuracy: 0.9968 - val_loss: 0.0260 - val_accuracy: 0.9899\n",
      "Epoch 59/100\n",
      "20/20 [==============================] - 4s 195ms/step - loss: 0.0082 - accuracy: 0.9968 - val_loss: 0.0450 - val_accuracy: 0.9848\n",
      "Epoch 60/100\n",
      "20/20 [==============================] - 4s 204ms/step - loss: 0.0026 - accuracy: 1.0000 - val_loss: 0.0256 - val_accuracy: 0.9899\n",
      "Epoch 61/100\n",
      "20/20 [==============================] - 4s 200ms/step - loss: 0.0026 - accuracy: 1.0000 - val_loss: 0.0591 - val_accuracy: 0.9798\n",
      "Epoch 62/100\n",
      "20/20 [==============================] - 4s 213ms/step - loss: 0.0029 - accuracy: 1.0000 - val_loss: 0.0462 - val_accuracy: 0.9899\n",
      "Epoch 63/100\n",
      "20/20 [==============================] - 4s 203ms/step - loss: 0.0047 - accuracy: 0.9968 - val_loss: 0.0385 - val_accuracy: 0.9848\n",
      "Epoch 64/100\n",
      "20/20 [==============================] - 4s 201ms/step - loss: 0.0018 - accuracy: 1.0000 - val_loss: 0.0276 - val_accuracy: 0.9949\n",
      "Epoch 65/100\n",
      "20/20 [==============================] - 4s 201ms/step - loss: 0.0041 - accuracy: 0.9984 - val_loss: 0.1750 - val_accuracy: 0.9596\n",
      "Epoch 66/100\n",
      "20/20 [==============================] - 4s 198ms/step - loss: 0.0199 - accuracy: 0.9886 - val_loss: 0.2824 - val_accuracy: 0.9293\n",
      "Epoch 67/100\n",
      "20/20 [==============================] - 4s 211ms/step - loss: 0.0144 - accuracy: 0.9968 - val_loss: 0.0868 - val_accuracy: 0.9747\n",
      "Epoch 68/100\n",
      "20/20 [==============================] - 4s 206ms/step - loss: 0.0046 - accuracy: 1.0000 - val_loss: 0.0282 - val_accuracy: 0.9848\n",
      "Epoch 69/100\n",
      "20/20 [==============================] - 4s 202ms/step - loss: 0.0044 - accuracy: 0.9984 - val_loss: 0.0398 - val_accuracy: 0.9899\n",
      "Epoch 70/100\n",
      "20/20 [==============================] - 4s 206ms/step - loss: 0.0011 - accuracy: 1.0000 - val_loss: 0.0340 - val_accuracy: 0.9899\n",
      "Epoch 71/100\n",
      "20/20 [==============================] - 4s 205ms/step - loss: 0.0026 - accuracy: 1.0000 - val_loss: 0.0332 - val_accuracy: 0.9848\n",
      "Epoch 72/100\n",
      "20/20 [==============================] - 4s 209ms/step - loss: 0.0052 - accuracy: 0.9968 - val_loss: 0.0192 - val_accuracy: 0.9899\n",
      "Epoch 73/100\n",
      "20/20 [==============================] - 4s 198ms/step - loss: 0.0029 - accuracy: 0.9984 - val_loss: 0.0187 - val_accuracy: 0.9848\n",
      "Epoch 74/100\n",
      "20/20 [==============================] - 4s 196ms/step - loss: 0.0023 - accuracy: 0.9984 - val_loss: 0.0292 - val_accuracy: 0.9848\n",
      "Epoch 75/100\n",
      "20/20 [==============================] - 4s 198ms/step - loss: 0.0016 - accuracy: 1.0000 - val_loss: 0.0266 - val_accuracy: 0.9899\n",
      "Epoch 76/100\n",
      "20/20 [==============================] - 4s 198ms/step - loss: 0.0012 - accuracy: 1.0000 - val_loss: 0.0184 - val_accuracy: 0.9949\n",
      "Epoch 77/100\n",
      "20/20 [==============================] - 4s 186ms/step - loss: 0.0014 - accuracy: 1.0000 - val_loss: 0.0351 - val_accuracy: 0.9848\n",
      "Epoch 78/100\n",
      "20/20 [==============================] - 4s 201ms/step - loss: 0.0018 - accuracy: 0.9984 - val_loss: 0.0294 - val_accuracy: 0.9848\n",
      "Epoch 79/100\n",
      "20/20 [==============================] - 4s 204ms/step - loss: 0.0173 - accuracy: 0.9935 - val_loss: 0.1125 - val_accuracy: 0.9495\n",
      "Epoch 80/100\n",
      "20/20 [==============================] - 4s 202ms/step - loss: 0.0118 - accuracy: 0.9984 - val_loss: 0.0189 - val_accuracy: 0.9949\n",
      "Epoch 81/100\n",
      "20/20 [==============================] - 4s 206ms/step - loss: 0.0047 - accuracy: 1.0000 - val_loss: 0.0246 - val_accuracy: 0.9899\n",
      "Epoch 82/100\n",
      "20/20 [==============================] - 4s 202ms/step - loss: 0.0078 - accuracy: 0.9968 - val_loss: 0.3703 - val_accuracy: 0.9293\n",
      "Epoch 83/100\n",
      "20/20 [==============================] - 4s 201ms/step - loss: 0.0182 - accuracy: 0.9951 - val_loss: 0.0096 - val_accuracy: 0.9949\n",
      "Epoch 84/100\n",
      "20/20 [==============================] - 4s 204ms/step - loss: 0.0027 - accuracy: 1.0000 - val_loss: 0.0127 - val_accuracy: 0.9949\n",
      "Epoch 85/100\n",
      "20/20 [==============================] - 4s 198ms/step - loss: 0.0015 - accuracy: 1.0000 - val_loss: 0.0194 - val_accuracy: 0.9899\n",
      "Epoch 86/100\n",
      "20/20 [==============================] - 4s 199ms/step - loss: 0.0011 - accuracy: 1.0000 - val_loss: 0.0147 - val_accuracy: 0.9949\n",
      "Epoch 87/100\n",
      "20/20 [==============================] - 4s 216ms/step - loss: 0.0016 - accuracy: 1.0000 - val_loss: 0.0199 - val_accuracy: 0.9899\n",
      "Epoch 88/100\n",
      "20/20 [==============================] - 4s 206ms/step - loss: 0.0022 - accuracy: 1.0000 - val_loss: 0.0468 - val_accuracy: 0.9848\n",
      "Epoch 89/100\n",
      "20/20 [==============================] - 4s 207ms/step - loss: 4.0755e-04 - accuracy: 1.0000 - val_loss: 0.0272 - val_accuracy: 0.9949\n",
      "Epoch 90/100\n",
      "20/20 [==============================] - 4s 205ms/step - loss: 9.6327e-04 - accuracy: 1.0000 - val_loss: 0.0379 - val_accuracy: 0.9848\n",
      "Epoch 91/100\n",
      "20/20 [==============================] - 4s 204ms/step - loss: 0.0011 - accuracy: 1.0000 - val_loss: 0.0317 - val_accuracy: 0.9899\n",
      "Epoch 92/100\n",
      "20/20 [==============================] - 4s 212ms/step - loss: 4.0407e-04 - accuracy: 1.0000 - val_loss: 0.0269 - val_accuracy: 0.9899\n",
      "Epoch 93/100\n",
      "20/20 [==============================] - 4s 208ms/step - loss: 9.5999e-04 - accuracy: 1.0000 - val_loss: 0.0403 - val_accuracy: 0.9899\n",
      "Epoch 94/100\n",
      "20/20 [==============================] - 4s 202ms/step - loss: 3.4459e-04 - accuracy: 1.0000 - val_loss: 0.0317 - val_accuracy: 0.9899\n",
      "Epoch 95/100\n",
      "20/20 [==============================] - 4s 203ms/step - loss: 5.9008e-04 - accuracy: 1.0000 - val_loss: 0.0335 - val_accuracy: 0.9899\n",
      "Epoch 96/100\n",
      "20/20 [==============================] - 4s 200ms/step - loss: 0.0037 - accuracy: 0.9984 - val_loss: 0.1463 - val_accuracy: 0.9747\n",
      "Epoch 97/100\n",
      "20/20 [==============================] - 4s 204ms/step - loss: 0.0107 - accuracy: 0.9984 - val_loss: 0.0079 - val_accuracy: 1.0000\n",
      "Epoch 98/100\n",
      "20/20 [==============================] - 4s 200ms/step - loss: 0.0012 - accuracy: 1.0000 - val_loss: 0.0121 - val_accuracy: 0.9949\n",
      "Epoch 99/100\n",
      "20/20 [==============================] - 4s 219ms/step - loss: 3.2902e-04 - accuracy: 1.0000 - val_loss: 0.0167 - val_accuracy: 0.9949\n",
      "Epoch 100/100\n",
      "20/20 [==============================] - 4s 197ms/step - loss: 2.9986e-04 - accuracy: 1.0000 - val_loss: 0.0195 - val_accuracy: 0.9949\n"
     ]
    },
    {
     "data": {
      "text/plain": [
       "<keras.callbacks.History at 0x2292aa950c0>"
      ]
     },
     "execution_count": 34,
     "metadata": {},
     "output_type": "execute_result"
    }
   ],
   "source": [
    "cnn.fit(x=training_set,validation_data=test_set,epochs=100)"
   ]
  },
  {
   "cell_type": "code",
   "execution_count": 39,
   "id": "5c397515",
   "metadata": {},
   "outputs": [
    {
     "name": "stdout",
     "output_type": "stream",
     "text": [
      "1/1 [==============================] - 0s 16ms/step\n",
      "without_mask\n"
     ]
    }
   ],
   "source": [
    "import numpy as np\n",
    "from keras.preprocessing import image\n",
    "\n",
    "test_image = tf.keras.utils.load_img('maskdata/maskdata/test/without_mask/325.jpg', target_size = (64, 64))\n",
    "test_image =  tf.keras.utils.img_to_array(test_image)\n",
    "test_image = np.expand_dims(test_image, axis = 0)\n",
    "result = cnn.predict(test_image)\n",
    "training_set.class_indices\n",
    "if result[0][0] == 1:\n",
    "    prediction = 'without_mask'\n",
    "else:\n",
    "    prediction = 'with_mask'\n",
    "print(prediction)"
   ]
  }
 ],
 "metadata": {
  "kernelspec": {
   "display_name": "Python 3 (ipykernel)",
   "language": "python",
   "name": "python3"
  },
  "language_info": {
   "codemirror_mode": {
    "name": "ipython",
    "version": 3
   },
   "file_extension": ".py",
   "mimetype": "text/x-python",
   "name": "python",
   "nbconvert_exporter": "python",
   "pygments_lexer": "ipython3",
   "version": "3.10.7"
  }
 },
 "nbformat": 4,
 "nbformat_minor": 5
}
